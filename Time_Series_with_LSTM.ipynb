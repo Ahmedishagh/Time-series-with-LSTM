{
  "nbformat": 4,
  "nbformat_minor": 0,
  "metadata": {
    "colab": {
      "provenance": []
    },
    "kernelspec": {
      "name": "python3",
      "display_name": "Python 3"
    },
    "language_info": {
      "name": "python"
    }
  },
  "cells": [
    {
      "cell_type": "code",
      "execution_count": null,
      "metadata": {
        "id": "RXmzxN4djAZY"
      },
      "outputs": [],
      "source": [
        "import pandas as pd\n",
        "import numpy as np\n",
        "from sklearn.model_selection import train_test_split\n",
        "from sklearn.preprocessing import StandardScaler\n",
        "import tensorflow as tf\n",
        "from tensorflow.keras.models import Sequential\n",
        "from tensorflow.keras.layers import Dense, LSTM, Dropout"
      ]
    },
    {
      "cell_type": "code",
      "source": [
        "data = pd.read_csv('/content/drive/MyDrive/TemperatureRainFall (1).csv')"
      ],
      "metadata": {
        "id": "slN01dQP5Ykh"
      },
      "execution_count": null,
      "outputs": []
    },
    {
      "cell_type": "code",
      "source": [
        "data.head()"
      ],
      "metadata": {
        "colab": {
          "base_uri": "https://localhost:8080/",
          "height": 206
        },
        "id": "Vr04bnlO5g3P",
        "outputId": "f7ee1823-761a-4966-91bc-fdd1554a2174"
      },
      "execution_count": null,
      "outputs": [
        {
          "output_type": "execute_result",
          "data": {
            "text/plain": [
              "         Date  MinTemp  MaxTemp  9amTemp  3pmTemp  Rainfall\n",
              "0  01/12/2008     13.4     22.9     16.9     21.8       0.6\n",
              "1  02/12/2008      7.4     25.1     17.2     24.3       0.0\n",
              "2  03/12/2008     12.9     25.7     21.0     23.2       0.0\n",
              "3  04/12/2008      9.2     28.0     18.1     26.5       0.0\n",
              "4  05/12/2008     17.5     32.3     17.8     29.7       1.0"
            ],
            "text/html": [
              "\n",
              "  <div id=\"df-f1c14719-9b47-49cc-b1c5-90071cafac43\" class=\"colab-df-container\">\n",
              "    <div>\n",
              "<style scoped>\n",
              "    .dataframe tbody tr th:only-of-type {\n",
              "        vertical-align: middle;\n",
              "    }\n",
              "\n",
              "    .dataframe tbody tr th {\n",
              "        vertical-align: top;\n",
              "    }\n",
              "\n",
              "    .dataframe thead th {\n",
              "        text-align: right;\n",
              "    }\n",
              "</style>\n",
              "<table border=\"1\" class=\"dataframe\">\n",
              "  <thead>\n",
              "    <tr style=\"text-align: right;\">\n",
              "      <th></th>\n",
              "      <th>Date</th>\n",
              "      <th>MinTemp</th>\n",
              "      <th>MaxTemp</th>\n",
              "      <th>9amTemp</th>\n",
              "      <th>3pmTemp</th>\n",
              "      <th>Rainfall</th>\n",
              "    </tr>\n",
              "  </thead>\n",
              "  <tbody>\n",
              "    <tr>\n",
              "      <th>0</th>\n",
              "      <td>01/12/2008</td>\n",
              "      <td>13.4</td>\n",
              "      <td>22.9</td>\n",
              "      <td>16.9</td>\n",
              "      <td>21.8</td>\n",
              "      <td>0.6</td>\n",
              "    </tr>\n",
              "    <tr>\n",
              "      <th>1</th>\n",
              "      <td>02/12/2008</td>\n",
              "      <td>7.4</td>\n",
              "      <td>25.1</td>\n",
              "      <td>17.2</td>\n",
              "      <td>24.3</td>\n",
              "      <td>0.0</td>\n",
              "    </tr>\n",
              "    <tr>\n",
              "      <th>2</th>\n",
              "      <td>03/12/2008</td>\n",
              "      <td>12.9</td>\n",
              "      <td>25.7</td>\n",
              "      <td>21.0</td>\n",
              "      <td>23.2</td>\n",
              "      <td>0.0</td>\n",
              "    </tr>\n",
              "    <tr>\n",
              "      <th>3</th>\n",
              "      <td>04/12/2008</td>\n",
              "      <td>9.2</td>\n",
              "      <td>28.0</td>\n",
              "      <td>18.1</td>\n",
              "      <td>26.5</td>\n",
              "      <td>0.0</td>\n",
              "    </tr>\n",
              "    <tr>\n",
              "      <th>4</th>\n",
              "      <td>05/12/2008</td>\n",
              "      <td>17.5</td>\n",
              "      <td>32.3</td>\n",
              "      <td>17.8</td>\n",
              "      <td>29.7</td>\n",
              "      <td>1.0</td>\n",
              "    </tr>\n",
              "  </tbody>\n",
              "</table>\n",
              "</div>\n",
              "    <div class=\"colab-df-buttons\">\n",
              "\n",
              "  <div class=\"colab-df-container\">\n",
              "    <button class=\"colab-df-convert\" onclick=\"convertToInteractive('df-f1c14719-9b47-49cc-b1c5-90071cafac43')\"\n",
              "            title=\"Convert this dataframe to an interactive table.\"\n",
              "            style=\"display:none;\">\n",
              "\n",
              "  <svg xmlns=\"http://www.w3.org/2000/svg\" height=\"24px\" viewBox=\"0 -960 960 960\">\n",
              "    <path d=\"M120-120v-720h720v720H120Zm60-500h600v-160H180v160Zm220 220h160v-160H400v160Zm0 220h160v-160H400v160ZM180-400h160v-160H180v160Zm440 0h160v-160H620v160ZM180-180h160v-160H180v160Zm440 0h160v-160H620v160Z\"/>\n",
              "  </svg>\n",
              "    </button>\n",
              "\n",
              "  <style>\n",
              "    .colab-df-container {\n",
              "      display:flex;\n",
              "      gap: 12px;\n",
              "    }\n",
              "\n",
              "    .colab-df-convert {\n",
              "      background-color: #E8F0FE;\n",
              "      border: none;\n",
              "      border-radius: 50%;\n",
              "      cursor: pointer;\n",
              "      display: none;\n",
              "      fill: #1967D2;\n",
              "      height: 32px;\n",
              "      padding: 0 0 0 0;\n",
              "      width: 32px;\n",
              "    }\n",
              "\n",
              "    .colab-df-convert:hover {\n",
              "      background-color: #E2EBFA;\n",
              "      box-shadow: 0px 1px 2px rgba(60, 64, 67, 0.3), 0px 1px 3px 1px rgba(60, 64, 67, 0.15);\n",
              "      fill: #174EA6;\n",
              "    }\n",
              "\n",
              "    .colab-df-buttons div {\n",
              "      margin-bottom: 4px;\n",
              "    }\n",
              "\n",
              "    [theme=dark] .colab-df-convert {\n",
              "      background-color: #3B4455;\n",
              "      fill: #D2E3FC;\n",
              "    }\n",
              "\n",
              "    [theme=dark] .colab-df-convert:hover {\n",
              "      background-color: #434B5C;\n",
              "      box-shadow: 0px 1px 3px 1px rgba(0, 0, 0, 0.15);\n",
              "      filter: drop-shadow(0px 1px 2px rgba(0, 0, 0, 0.3));\n",
              "      fill: #FFFFFF;\n",
              "    }\n",
              "  </style>\n",
              "\n",
              "    <script>\n",
              "      const buttonEl =\n",
              "        document.querySelector('#df-f1c14719-9b47-49cc-b1c5-90071cafac43 button.colab-df-convert');\n",
              "      buttonEl.style.display =\n",
              "        google.colab.kernel.accessAllowed ? 'block' : 'none';\n",
              "\n",
              "      async function convertToInteractive(key) {\n",
              "        const element = document.querySelector('#df-f1c14719-9b47-49cc-b1c5-90071cafac43');\n",
              "        const dataTable =\n",
              "          await google.colab.kernel.invokeFunction('convertToInteractive',\n",
              "                                                    [key], {});\n",
              "        if (!dataTable) return;\n",
              "\n",
              "        const docLinkHtml = 'Like what you see? Visit the ' +\n",
              "          '<a target=\"_blank\" href=https://colab.research.google.com/notebooks/data_table.ipynb>data table notebook</a>'\n",
              "          + ' to learn more about interactive tables.';\n",
              "        element.innerHTML = '';\n",
              "        dataTable['output_type'] = 'display_data';\n",
              "        await google.colab.output.renderOutput(dataTable, element);\n",
              "        const docLink = document.createElement('div');\n",
              "        docLink.innerHTML = docLinkHtml;\n",
              "        element.appendChild(docLink);\n",
              "      }\n",
              "    </script>\n",
              "  </div>\n",
              "\n",
              "\n",
              "<div id=\"df-75e4b3fd-d6eb-4a77-9d11-3e520318e9c8\">\n",
              "  <button class=\"colab-df-quickchart\" onclick=\"quickchart('df-75e4b3fd-d6eb-4a77-9d11-3e520318e9c8')\"\n",
              "            title=\"Suggest charts\"\n",
              "            style=\"display:none;\">\n",
              "\n",
              "<svg xmlns=\"http://www.w3.org/2000/svg\" height=\"24px\"viewBox=\"0 0 24 24\"\n",
              "     width=\"24px\">\n",
              "    <g>\n",
              "        <path d=\"M19 3H5c-1.1 0-2 .9-2 2v14c0 1.1.9 2 2 2h14c1.1 0 2-.9 2-2V5c0-1.1-.9-2-2-2zM9 17H7v-7h2v7zm4 0h-2V7h2v10zm4 0h-2v-4h2v4z\"/>\n",
              "    </g>\n",
              "</svg>\n",
              "  </button>\n",
              "\n",
              "<style>\n",
              "  .colab-df-quickchart {\n",
              "      --bg-color: #E8F0FE;\n",
              "      --fill-color: #1967D2;\n",
              "      --hover-bg-color: #E2EBFA;\n",
              "      --hover-fill-color: #174EA6;\n",
              "      --disabled-fill-color: #AAA;\n",
              "      --disabled-bg-color: #DDD;\n",
              "  }\n",
              "\n",
              "  [theme=dark] .colab-df-quickchart {\n",
              "      --bg-color: #3B4455;\n",
              "      --fill-color: #D2E3FC;\n",
              "      --hover-bg-color: #434B5C;\n",
              "      --hover-fill-color: #FFFFFF;\n",
              "      --disabled-bg-color: #3B4455;\n",
              "      --disabled-fill-color: #666;\n",
              "  }\n",
              "\n",
              "  .colab-df-quickchart {\n",
              "    background-color: var(--bg-color);\n",
              "    border: none;\n",
              "    border-radius: 50%;\n",
              "    cursor: pointer;\n",
              "    display: none;\n",
              "    fill: var(--fill-color);\n",
              "    height: 32px;\n",
              "    padding: 0;\n",
              "    width: 32px;\n",
              "  }\n",
              "\n",
              "  .colab-df-quickchart:hover {\n",
              "    background-color: var(--hover-bg-color);\n",
              "    box-shadow: 0 1px 2px rgba(60, 64, 67, 0.3), 0 1px 3px 1px rgba(60, 64, 67, 0.15);\n",
              "    fill: var(--button-hover-fill-color);\n",
              "  }\n",
              "\n",
              "  .colab-df-quickchart-complete:disabled,\n",
              "  .colab-df-quickchart-complete:disabled:hover {\n",
              "    background-color: var(--disabled-bg-color);\n",
              "    fill: var(--disabled-fill-color);\n",
              "    box-shadow: none;\n",
              "  }\n",
              "\n",
              "  .colab-df-spinner {\n",
              "    border: 2px solid var(--fill-color);\n",
              "    border-color: transparent;\n",
              "    border-bottom-color: var(--fill-color);\n",
              "    animation:\n",
              "      spin 1s steps(1) infinite;\n",
              "  }\n",
              "\n",
              "  @keyframes spin {\n",
              "    0% {\n",
              "      border-color: transparent;\n",
              "      border-bottom-color: var(--fill-color);\n",
              "      border-left-color: var(--fill-color);\n",
              "    }\n",
              "    20% {\n",
              "      border-color: transparent;\n",
              "      border-left-color: var(--fill-color);\n",
              "      border-top-color: var(--fill-color);\n",
              "    }\n",
              "    30% {\n",
              "      border-color: transparent;\n",
              "      border-left-color: var(--fill-color);\n",
              "      border-top-color: var(--fill-color);\n",
              "      border-right-color: var(--fill-color);\n",
              "    }\n",
              "    40% {\n",
              "      border-color: transparent;\n",
              "      border-right-color: var(--fill-color);\n",
              "      border-top-color: var(--fill-color);\n",
              "    }\n",
              "    60% {\n",
              "      border-color: transparent;\n",
              "      border-right-color: var(--fill-color);\n",
              "    }\n",
              "    80% {\n",
              "      border-color: transparent;\n",
              "      border-right-color: var(--fill-color);\n",
              "      border-bottom-color: var(--fill-color);\n",
              "    }\n",
              "    90% {\n",
              "      border-color: transparent;\n",
              "      border-bottom-color: var(--fill-color);\n",
              "    }\n",
              "  }\n",
              "</style>\n",
              "\n",
              "  <script>\n",
              "    async function quickchart(key) {\n",
              "      const quickchartButtonEl =\n",
              "        document.querySelector('#' + key + ' button');\n",
              "      quickchartButtonEl.disabled = true;  // To prevent multiple clicks.\n",
              "      quickchartButtonEl.classList.add('colab-df-spinner');\n",
              "      try {\n",
              "        const charts = await google.colab.kernel.invokeFunction(\n",
              "            'suggestCharts', [key], {});\n",
              "      } catch (error) {\n",
              "        console.error('Error during call to suggestCharts:', error);\n",
              "      }\n",
              "      quickchartButtonEl.classList.remove('colab-df-spinner');\n",
              "      quickchartButtonEl.classList.add('colab-df-quickchart-complete');\n",
              "    }\n",
              "    (() => {\n",
              "      let quickchartButtonEl =\n",
              "        document.querySelector('#df-75e4b3fd-d6eb-4a77-9d11-3e520318e9c8 button');\n",
              "      quickchartButtonEl.style.display =\n",
              "        google.colab.kernel.accessAllowed ? 'block' : 'none';\n",
              "    })();\n",
              "  </script>\n",
              "</div>\n",
              "\n",
              "    </div>\n",
              "  </div>\n"
            ],
            "application/vnd.google.colaboratory.intrinsic+json": {
              "type": "dataframe",
              "variable_name": "data",
              "summary": "{\n  \"name\": \"data\",\n  \"rows\": 3011,\n  \"fields\": [\n    {\n      \"column\": \"Date\",\n      \"properties\": {\n        \"dtype\": \"string\",\n        \"num_unique_values\": 3011,\n        \"samples\": [\n          \"18/01/2010\",\n          \"18/05/2014\",\n          \"15/01/2010\"\n        ],\n        \"semantic_type\": \"\",\n        \"description\": \"\"\n      }\n    },\n    {\n      \"column\": \"MinTemp\",\n      \"properties\": {\n        \"dtype\": \"number\",\n        \"std\": 6.062028121409101,\n        \"min\": -2.8,\n        \"max\": 28.3,\n        \"num_unique_values\": 267,\n        \"samples\": [\n          10.7,\n          18.5,\n          11.1\n        ],\n        \"semantic_type\": \"\",\n        \"description\": \"\"\n      }\n    },\n    {\n      \"column\": \"MaxTemp\",\n      \"properties\": {\n        \"dtype\": \"number\",\n        \"std\": 7.796727807770898,\n        \"min\": 6.8,\n        \"max\": 44.8,\n        \"num_unique_values\": 342,\n        \"samples\": [\n          28.6,\n          18.8,\n          19.2\n        ],\n        \"semantic_type\": \"\",\n        \"description\": \"\"\n      }\n    },\n    {\n      \"column\": \"9amTemp\",\n      \"properties\": {\n        \"dtype\": \"number\",\n        \"std\": 6.37313712681355,\n        \"min\": 0.3,\n        \"max\": 34.5,\n        \"num_unique_values\": 284,\n        \"samples\": [\n          20.4,\n          24.8,\n          9.3\n        ],\n        \"semantic_type\": \"\",\n        \"description\": \"\"\n      }\n    },\n    {\n      \"column\": \"3pmTemp\",\n      \"properties\": {\n        \"dtype\": \"number\",\n        \"std\": 7.5254787079889605,\n        \"min\": 6.4,\n        \"max\": 43.4,\n        \"num_unique_values\": 334,\n        \"samples\": [\n          26.1,\n          8.3,\n          28.6\n        ],\n        \"semantic_type\": \"\",\n        \"description\": \"\"\n      }\n    },\n    {\n      \"column\": \"Rainfall\",\n      \"properties\": {\n        \"dtype\": \"number\",\n        \"std\": 6.249052178706232,\n        \"min\": 0.0,\n        \"max\": 104.2,\n        \"num_unique_values\": 149,\n        \"samples\": [\n          32.8,\n          8.6,\n          7.6\n        ],\n        \"semantic_type\": \"\",\n        \"description\": \"\"\n      }\n    }\n  ]\n}"
            }
          },
          "metadata": {},
          "execution_count": 4
        }
      ]
    },
    {
      "cell_type": "code",
      "source": [
        "data.tail()"
      ],
      "metadata": {
        "colab": {
          "base_uri": "https://localhost:8080/",
          "height": 206
        },
        "id": "4ECvEITW5orI",
        "outputId": "400eb421-4203-44d0-f125-08bcd14822e2"
      },
      "execution_count": null,
      "outputs": [
        {
          "output_type": "execute_result",
          "data": {
            "text/plain": [
              "            Date  MinTemp  MaxTemp  9amTemp  3pmTemp  Rainfall\n",
              "3006  21/06/2017      1.2     15.2      2.9     14.3       0.4\n",
              "3007  22/06/2017      0.8     13.4      3.6     13.3       0.0\n",
              "3008  23/06/2017      1.1     11.9      2.7     10.2       0.0\n",
              "3009  24/06/2017      1.1     14.1      3.9     13.1       0.2\n",
              "3010  25/06/2017      3.9     10.9      6.4      8.8       0.0"
            ],
            "text/html": [
              "\n",
              "  <div id=\"df-03779e32-c6b2-4228-8425-6802d6b809f3\" class=\"colab-df-container\">\n",
              "    <div>\n",
              "<style scoped>\n",
              "    .dataframe tbody tr th:only-of-type {\n",
              "        vertical-align: middle;\n",
              "    }\n",
              "\n",
              "    .dataframe tbody tr th {\n",
              "        vertical-align: top;\n",
              "    }\n",
              "\n",
              "    .dataframe thead th {\n",
              "        text-align: right;\n",
              "    }\n",
              "</style>\n",
              "<table border=\"1\" class=\"dataframe\">\n",
              "  <thead>\n",
              "    <tr style=\"text-align: right;\">\n",
              "      <th></th>\n",
              "      <th>Date</th>\n",
              "      <th>MinTemp</th>\n",
              "      <th>MaxTemp</th>\n",
              "      <th>9amTemp</th>\n",
              "      <th>3pmTemp</th>\n",
              "      <th>Rainfall</th>\n",
              "    </tr>\n",
              "  </thead>\n",
              "  <tbody>\n",
              "    <tr>\n",
              "      <th>3006</th>\n",
              "      <td>21/06/2017</td>\n",
              "      <td>1.2</td>\n",
              "      <td>15.2</td>\n",
              "      <td>2.9</td>\n",
              "      <td>14.3</td>\n",
              "      <td>0.4</td>\n",
              "    </tr>\n",
              "    <tr>\n",
              "      <th>3007</th>\n",
              "      <td>22/06/2017</td>\n",
              "      <td>0.8</td>\n",
              "      <td>13.4</td>\n",
              "      <td>3.6</td>\n",
              "      <td>13.3</td>\n",
              "      <td>0.0</td>\n",
              "    </tr>\n",
              "    <tr>\n",
              "      <th>3008</th>\n",
              "      <td>23/06/2017</td>\n",
              "      <td>1.1</td>\n",
              "      <td>11.9</td>\n",
              "      <td>2.7</td>\n",
              "      <td>10.2</td>\n",
              "      <td>0.0</td>\n",
              "    </tr>\n",
              "    <tr>\n",
              "      <th>3009</th>\n",
              "      <td>24/06/2017</td>\n",
              "      <td>1.1</td>\n",
              "      <td>14.1</td>\n",
              "      <td>3.9</td>\n",
              "      <td>13.1</td>\n",
              "      <td>0.2</td>\n",
              "    </tr>\n",
              "    <tr>\n",
              "      <th>3010</th>\n",
              "      <td>25/06/2017</td>\n",
              "      <td>3.9</td>\n",
              "      <td>10.9</td>\n",
              "      <td>6.4</td>\n",
              "      <td>8.8</td>\n",
              "      <td>0.0</td>\n",
              "    </tr>\n",
              "  </tbody>\n",
              "</table>\n",
              "</div>\n",
              "    <div class=\"colab-df-buttons\">\n",
              "\n",
              "  <div class=\"colab-df-container\">\n",
              "    <button class=\"colab-df-convert\" onclick=\"convertToInteractive('df-03779e32-c6b2-4228-8425-6802d6b809f3')\"\n",
              "            title=\"Convert this dataframe to an interactive table.\"\n",
              "            style=\"display:none;\">\n",
              "\n",
              "  <svg xmlns=\"http://www.w3.org/2000/svg\" height=\"24px\" viewBox=\"0 -960 960 960\">\n",
              "    <path d=\"M120-120v-720h720v720H120Zm60-500h600v-160H180v160Zm220 220h160v-160H400v160Zm0 220h160v-160H400v160ZM180-400h160v-160H180v160Zm440 0h160v-160H620v160ZM180-180h160v-160H180v160Zm440 0h160v-160H620v160Z\"/>\n",
              "  </svg>\n",
              "    </button>\n",
              "\n",
              "  <style>\n",
              "    .colab-df-container {\n",
              "      display:flex;\n",
              "      gap: 12px;\n",
              "    }\n",
              "\n",
              "    .colab-df-convert {\n",
              "      background-color: #E8F0FE;\n",
              "      border: none;\n",
              "      border-radius: 50%;\n",
              "      cursor: pointer;\n",
              "      display: none;\n",
              "      fill: #1967D2;\n",
              "      height: 32px;\n",
              "      padding: 0 0 0 0;\n",
              "      width: 32px;\n",
              "    }\n",
              "\n",
              "    .colab-df-convert:hover {\n",
              "      background-color: #E2EBFA;\n",
              "      box-shadow: 0px 1px 2px rgba(60, 64, 67, 0.3), 0px 1px 3px 1px rgba(60, 64, 67, 0.15);\n",
              "      fill: #174EA6;\n",
              "    }\n",
              "\n",
              "    .colab-df-buttons div {\n",
              "      margin-bottom: 4px;\n",
              "    }\n",
              "\n",
              "    [theme=dark] .colab-df-convert {\n",
              "      background-color: #3B4455;\n",
              "      fill: #D2E3FC;\n",
              "    }\n",
              "\n",
              "    [theme=dark] .colab-df-convert:hover {\n",
              "      background-color: #434B5C;\n",
              "      box-shadow: 0px 1px 3px 1px rgba(0, 0, 0, 0.15);\n",
              "      filter: drop-shadow(0px 1px 2px rgba(0, 0, 0, 0.3));\n",
              "      fill: #FFFFFF;\n",
              "    }\n",
              "  </style>\n",
              "\n",
              "    <script>\n",
              "      const buttonEl =\n",
              "        document.querySelector('#df-03779e32-c6b2-4228-8425-6802d6b809f3 button.colab-df-convert');\n",
              "      buttonEl.style.display =\n",
              "        google.colab.kernel.accessAllowed ? 'block' : 'none';\n",
              "\n",
              "      async function convertToInteractive(key) {\n",
              "        const element = document.querySelector('#df-03779e32-c6b2-4228-8425-6802d6b809f3');\n",
              "        const dataTable =\n",
              "          await google.colab.kernel.invokeFunction('convertToInteractive',\n",
              "                                                    [key], {});\n",
              "        if (!dataTable) return;\n",
              "\n",
              "        const docLinkHtml = 'Like what you see? Visit the ' +\n",
              "          '<a target=\"_blank\" href=https://colab.research.google.com/notebooks/data_table.ipynb>data table notebook</a>'\n",
              "          + ' to learn more about interactive tables.';\n",
              "        element.innerHTML = '';\n",
              "        dataTable['output_type'] = 'display_data';\n",
              "        await google.colab.output.renderOutput(dataTable, element);\n",
              "        const docLink = document.createElement('div');\n",
              "        docLink.innerHTML = docLinkHtml;\n",
              "        element.appendChild(docLink);\n",
              "      }\n",
              "    </script>\n",
              "  </div>\n",
              "\n",
              "\n",
              "<div id=\"df-3bb44f1b-2c01-469d-acea-3f7c10f3a5dd\">\n",
              "  <button class=\"colab-df-quickchart\" onclick=\"quickchart('df-3bb44f1b-2c01-469d-acea-3f7c10f3a5dd')\"\n",
              "            title=\"Suggest charts\"\n",
              "            style=\"display:none;\">\n",
              "\n",
              "<svg xmlns=\"http://www.w3.org/2000/svg\" height=\"24px\"viewBox=\"0 0 24 24\"\n",
              "     width=\"24px\">\n",
              "    <g>\n",
              "        <path d=\"M19 3H5c-1.1 0-2 .9-2 2v14c0 1.1.9 2 2 2h14c1.1 0 2-.9 2-2V5c0-1.1-.9-2-2-2zM9 17H7v-7h2v7zm4 0h-2V7h2v10zm4 0h-2v-4h2v4z\"/>\n",
              "    </g>\n",
              "</svg>\n",
              "  </button>\n",
              "\n",
              "<style>\n",
              "  .colab-df-quickchart {\n",
              "      --bg-color: #E8F0FE;\n",
              "      --fill-color: #1967D2;\n",
              "      --hover-bg-color: #E2EBFA;\n",
              "      --hover-fill-color: #174EA6;\n",
              "      --disabled-fill-color: #AAA;\n",
              "      --disabled-bg-color: #DDD;\n",
              "  }\n",
              "\n",
              "  [theme=dark] .colab-df-quickchart {\n",
              "      --bg-color: #3B4455;\n",
              "      --fill-color: #D2E3FC;\n",
              "      --hover-bg-color: #434B5C;\n",
              "      --hover-fill-color: #FFFFFF;\n",
              "      --disabled-bg-color: #3B4455;\n",
              "      --disabled-fill-color: #666;\n",
              "  }\n",
              "\n",
              "  .colab-df-quickchart {\n",
              "    background-color: var(--bg-color);\n",
              "    border: none;\n",
              "    border-radius: 50%;\n",
              "    cursor: pointer;\n",
              "    display: none;\n",
              "    fill: var(--fill-color);\n",
              "    height: 32px;\n",
              "    padding: 0;\n",
              "    width: 32px;\n",
              "  }\n",
              "\n",
              "  .colab-df-quickchart:hover {\n",
              "    background-color: var(--hover-bg-color);\n",
              "    box-shadow: 0 1px 2px rgba(60, 64, 67, 0.3), 0 1px 3px 1px rgba(60, 64, 67, 0.15);\n",
              "    fill: var(--button-hover-fill-color);\n",
              "  }\n",
              "\n",
              "  .colab-df-quickchart-complete:disabled,\n",
              "  .colab-df-quickchart-complete:disabled:hover {\n",
              "    background-color: var(--disabled-bg-color);\n",
              "    fill: var(--disabled-fill-color);\n",
              "    box-shadow: none;\n",
              "  }\n",
              "\n",
              "  .colab-df-spinner {\n",
              "    border: 2px solid var(--fill-color);\n",
              "    border-color: transparent;\n",
              "    border-bottom-color: var(--fill-color);\n",
              "    animation:\n",
              "      spin 1s steps(1) infinite;\n",
              "  }\n",
              "\n",
              "  @keyframes spin {\n",
              "    0% {\n",
              "      border-color: transparent;\n",
              "      border-bottom-color: var(--fill-color);\n",
              "      border-left-color: var(--fill-color);\n",
              "    }\n",
              "    20% {\n",
              "      border-color: transparent;\n",
              "      border-left-color: var(--fill-color);\n",
              "      border-top-color: var(--fill-color);\n",
              "    }\n",
              "    30% {\n",
              "      border-color: transparent;\n",
              "      border-left-color: var(--fill-color);\n",
              "      border-top-color: var(--fill-color);\n",
              "      border-right-color: var(--fill-color);\n",
              "    }\n",
              "    40% {\n",
              "      border-color: transparent;\n",
              "      border-right-color: var(--fill-color);\n",
              "      border-top-color: var(--fill-color);\n",
              "    }\n",
              "    60% {\n",
              "      border-color: transparent;\n",
              "      border-right-color: var(--fill-color);\n",
              "    }\n",
              "    80% {\n",
              "      border-color: transparent;\n",
              "      border-right-color: var(--fill-color);\n",
              "      border-bottom-color: var(--fill-color);\n",
              "    }\n",
              "    90% {\n",
              "      border-color: transparent;\n",
              "      border-bottom-color: var(--fill-color);\n",
              "    }\n",
              "  }\n",
              "</style>\n",
              "\n",
              "  <script>\n",
              "    async function quickchart(key) {\n",
              "      const quickchartButtonEl =\n",
              "        document.querySelector('#' + key + ' button');\n",
              "      quickchartButtonEl.disabled = true;  // To prevent multiple clicks.\n",
              "      quickchartButtonEl.classList.add('colab-df-spinner');\n",
              "      try {\n",
              "        const charts = await google.colab.kernel.invokeFunction(\n",
              "            'suggestCharts', [key], {});\n",
              "      } catch (error) {\n",
              "        console.error('Error during call to suggestCharts:', error);\n",
              "      }\n",
              "      quickchartButtonEl.classList.remove('colab-df-spinner');\n",
              "      quickchartButtonEl.classList.add('colab-df-quickchart-complete');\n",
              "    }\n",
              "    (() => {\n",
              "      let quickchartButtonEl =\n",
              "        document.querySelector('#df-3bb44f1b-2c01-469d-acea-3f7c10f3a5dd button');\n",
              "      quickchartButtonEl.style.display =\n",
              "        google.colab.kernel.accessAllowed ? 'block' : 'none';\n",
              "    })();\n",
              "  </script>\n",
              "</div>\n",
              "\n",
              "    </div>\n",
              "  </div>\n"
            ],
            "application/vnd.google.colaboratory.intrinsic+json": {
              "type": "dataframe",
              "repr_error": "0"
            }
          },
          "metadata": {},
          "execution_count": 5
        }
      ]
    },
    {
      "cell_type": "code",
      "source": [
        "data.isnull().sum()"
      ],
      "metadata": {
        "colab": {
          "base_uri": "https://localhost:8080/",
          "height": 272
        },
        "id": "kL89bhWR5tCS",
        "outputId": "ced4e259-3643-4c8b-e8cc-289fbbe962cb"
      },
      "execution_count": null,
      "outputs": [
        {
          "output_type": "execute_result",
          "data": {
            "text/plain": [
              "Date         0\n",
              "MinTemp      6\n",
              "MaxTemp      1\n",
              "9amTemp      4\n",
              "3pmTemp      4\n",
              "Rainfall    20\n",
              "dtype: int64"
            ],
            "text/html": [
              "<div>\n",
              "<style scoped>\n",
              "    .dataframe tbody tr th:only-of-type {\n",
              "        vertical-align: middle;\n",
              "    }\n",
              "\n",
              "    .dataframe tbody tr th {\n",
              "        vertical-align: top;\n",
              "    }\n",
              "\n",
              "    .dataframe thead th {\n",
              "        text-align: right;\n",
              "    }\n",
              "</style>\n",
              "<table border=\"1\" class=\"dataframe\">\n",
              "  <thead>\n",
              "    <tr style=\"text-align: right;\">\n",
              "      <th></th>\n",
              "      <th>0</th>\n",
              "    </tr>\n",
              "  </thead>\n",
              "  <tbody>\n",
              "    <tr>\n",
              "      <th>Date</th>\n",
              "      <td>0</td>\n",
              "    </tr>\n",
              "    <tr>\n",
              "      <th>MinTemp</th>\n",
              "      <td>6</td>\n",
              "    </tr>\n",
              "    <tr>\n",
              "      <th>MaxTemp</th>\n",
              "      <td>1</td>\n",
              "    </tr>\n",
              "    <tr>\n",
              "      <th>9amTemp</th>\n",
              "      <td>4</td>\n",
              "    </tr>\n",
              "    <tr>\n",
              "      <th>3pmTemp</th>\n",
              "      <td>4</td>\n",
              "    </tr>\n",
              "    <tr>\n",
              "      <th>Rainfall</th>\n",
              "      <td>20</td>\n",
              "    </tr>\n",
              "  </tbody>\n",
              "</table>\n",
              "</div><br><label><b>dtype:</b> int64</label>"
            ]
          },
          "metadata": {},
          "execution_count": 6
        }
      ]
    },
    {
      "cell_type": "code",
      "source": [
        "data = data.fillna(method='ffill')"
      ],
      "metadata": {
        "colab": {
          "base_uri": "https://localhost:8080/"
        },
        "id": "KSXdK0wW5xAh",
        "outputId": "a717c8a8-38c3-40a9-f73e-ede796fb5286"
      },
      "execution_count": null,
      "outputs": [
        {
          "output_type": "stream",
          "name": "stderr",
          "text": [
            "<ipython-input-7-449dda89d9c2>:1: FutureWarning: DataFrame.fillna with 'method' is deprecated and will raise in a future version. Use obj.ffill() or obj.bfill() instead.\n",
            "  data = data.fillna(method='ffill')\n"
          ]
        }
      ]
    },
    {
      "cell_type": "markdown",
      "source": [
        "**Data preprocessing**"
      ],
      "metadata": {
        "id": "MMfAsSL_5-tl"
      }
    },
    {
      "cell_type": "code",
      "source": [
        "# Separate features and targets\n",
        "X = data.drop(columns=['MinTemp', 'MaxTemp', '9amTemp', '3pmTemp', 'Rainfall'])\n",
        "y = data[['MinTemp', 'MaxTemp', '9amTemp', '3pmTemp', 'Rainfall']]"
      ],
      "metadata": {
        "id": "WVhC-Ahm50yD"
      },
      "execution_count": null,
      "outputs": []
    },
    {
      "cell_type": "code",
      "source": [
        "# Converting data to time series\n",
        "def create_sequences(data, seq_length):\n",
        "    X_seq, y_seq = [], []\n",
        "    for i in range(len(data) - seq_length):\n",
        "        X_seq.append(data.iloc[i:i+seq_length].values)\n",
        "        y_seq.append(data.iloc[i+seq_length].values)\n",
        "    return np.array(X_seq), np.array(y_seq)\n",
        "\n",
        "seq_length = 30  # 30 Days of sequence\n",
        "X_seq, y_seq = create_sequences(data, seq_length)"
      ],
      "metadata": {
        "id": "3xQyGpPV58t9"
      },
      "execution_count": null,
      "outputs": []
    },
    {
      "cell_type": "code",
      "source": [
        "# Divide the data\n",
        "X_train, X_test, y_train, y_test = train_test_split(X_seq, y_seq, test_size=0.2, random_state=42)"
      ],
      "metadata": {
        "id": "st2Wlu2_7GXu"
      },
      "execution_count": null,
      "outputs": []
    },
    {
      "cell_type": "code",
      "source": [
        "print(data.dtypes)"
      ],
      "metadata": {
        "colab": {
          "base_uri": "https://localhost:8080/"
        },
        "id": "gE1JftMqDhyd",
        "outputId": "01c8e909-e625-4529-9a8a-2207785764dc"
      },
      "execution_count": null,
      "outputs": [
        {
          "output_type": "stream",
          "name": "stdout",
          "text": [
            "Date         object\n",
            "MinTemp     float64\n",
            "MaxTemp     float64\n",
            "9amTemp     float64\n",
            "3pmTemp     float64\n",
            "Rainfall    float64\n",
            "dtype: object\n"
          ]
        }
      ]
    },
    {
      "cell_type": "code",
      "source": [
        "numeric_columns = data.select_dtypes(include=[np.number]).columns\n",
        "X = data[numeric_columns]"
      ],
      "metadata": {
        "id": "J_CgJfRLDrws"
      },
      "execution_count": null,
      "outputs": []
    },
    {
      "cell_type": "code",
      "source": [
        "data['Date'] = pd.to_datetime(data['Date'], format='%d/%m/%Y')\n",
        "data['Year'] = data['Date'].dt.year\n",
        "data['Month'] = data['Date'].dt.month\n",
        "data['Day'] = data['Date'].dt.day\n",
        "data = data.drop(columns=['Date'])"
      ],
      "metadata": {
        "id": "_Sz0ioOSDv5t"
      },
      "execution_count": null,
      "outputs": []
    },
    {
      "cell_type": "code",
      "source": [
        "numeric_columns = data.select_dtypes(include=[np.number]).columns\n",
        "X = data[numeric_columns]\n",
        "\n",
        "y = data[['MinTemp', 'MaxTemp', '9amTemp', '3pmTemp', 'Rainfall']]\n",
        "\n",
        "def create_sequences(data, seq_length):\n",
        "    X_seq, y_seq = [], []\n",
        "    for i in range(len(data) - seq_length):\n",
        "        X_seq.append(data.iloc[i:i+seq_length].values)\n",
        "        y_seq.append(y.iloc[i+seq_length].values)\n",
        "    return np.array(X_seq), np.array(y_seq)\n",
        "\n",
        "seq_length = 30\n",
        "X_seq, y_seq = create_sequences(X, seq_length)\n",
        "\n",
        "X_train, X_test, y_train, y_test = train_test_split(X_seq, y_seq, test_size=0.2, random_state=42)\n",
        "\n",
        "scaler = StandardScaler()\n",
        "X_train = scaler.fit_transform(X_train.reshape(-1, X_train.shape[-1])).reshape(X_train.shape)\n",
        "X_test = scaler.transform(X_test.reshape(-1, X_test.shape[-1])).reshape(X_test.shape)"
      ],
      "metadata": {
        "id": "AYBz0jsT7aTB"
      },
      "execution_count": null,
      "outputs": []
    },
    {
      "cell_type": "markdown",
      "source": [
        "**Build Model**"
      ],
      "metadata": {
        "id": "kg_YWSUYEZJQ"
      }
    },
    {
      "cell_type": "code",
      "source": [
        "from tensorflow.keras.models import Model\n",
        "from tensorflow.keras.layers import Input, LSTM, Dense, Dropout, concatenate\n",
        "\n",
        "# Input Layer\n",
        "input_layer = Input(shape=(X_train.shape[1], X_train.shape[2]))\n",
        "\n",
        "# LSTM Layers\n",
        "lstm_layer_1 = LSTM(100, return_sequences=True, kernel_regularizer=tf.keras.regularizers.l2(0.01))(input_layer)\n",
        "dropout_layer_1 = Dropout(0.3)(lstm_layer_1)\n",
        "lstm_layer_2 = LSTM(100, return_sequences=False, kernel_regularizer=tf.keras.regularizers.l2(0.01))(dropout_layer_1)\n",
        "dropout_layer_2 = Dropout(0.3)(lstm_layer_2)\n",
        "\n",
        "# Output Layers\n",
        "output_min_temp = Dense(1, name='MinTemp')(dropout_layer_2)\n",
        "output_max_temp = Dense(1, name='MaxTemp')(dropout_layer_2)\n",
        "output_9am_temp = Dense(1, name='9amTemp')(dropout_layer_2)\n",
        "output_3pm_temp = Dense(1, name='3pmTemp')(dropout_layer_2)\n",
        "output_rainfall = Dense(1, name='Rainfall')(dropout_layer_2)\n",
        "\n",
        "# Create Model\n",
        "model = Model(inputs=input_layer, outputs=[output_min_temp, output_max_temp, output_9am_temp, output_3pm_temp, output_rainfall])"
      ],
      "metadata": {
        "id": "Z8wiz8eXC1Vm"
      },
      "execution_count": null,
      "outputs": []
    },
    {
      "cell_type": "code",
      "source": [
        "# Compile Model\n",
        "from tensorflow.keras.optimizers import Adam\n",
        "optimizer = Adam(learning_rate=0.001)\n",
        "model.compile(optimizer=optimizer, loss='mse')"
      ],
      "metadata": {
        "id": "QaVilT9_Myn2"
      },
      "execution_count": null,
      "outputs": []
    },
    {
      "cell_type": "code",
      "source": [
        "model.summary()"
      ],
      "metadata": {
        "colab": {
          "base_uri": "https://localhost:8080/",
          "height": 465
        },
        "id": "bH9llznQEdSV",
        "outputId": "2b2a0d4d-a2bb-4de5-e32b-a386f1b01e9d"
      },
      "execution_count": null,
      "outputs": [
        {
          "output_type": "display_data",
          "data": {
            "text/plain": [
              "\u001b[1mModel: \"functional_13\"\u001b[0m\n"
            ],
            "text/html": [
              "<pre style=\"white-space:pre;overflow-x:auto;line-height:normal;font-family:Menlo,'DejaVu Sans Mono',consolas,'Courier New',monospace\"><span style=\"font-weight: bold\">Model: \"functional_13\"</span>\n",
              "</pre>\n"
            ]
          },
          "metadata": {}
        },
        {
          "output_type": "display_data",
          "data": {
            "text/plain": [
              "┏━━━━━━━━━━━━━━━━━━━━━━━━━━━┳━━━━━━━━━━━━━━━━━━━━━━━━┳━━━━━━━━━━━━━━━━┳━━━━━━━━━━━━━━━━━━━━━━━━┓\n",
              "┃\u001b[1m \u001b[0m\u001b[1mLayer (type)             \u001b[0m\u001b[1m \u001b[0m┃\u001b[1m \u001b[0m\u001b[1mOutput Shape          \u001b[0m\u001b[1m \u001b[0m┃\u001b[1m \u001b[0m\u001b[1m       Param #\u001b[0m\u001b[1m \u001b[0m┃\u001b[1m \u001b[0m\u001b[1mConnected to          \u001b[0m\u001b[1m \u001b[0m┃\n",
              "┡━━━━━━━━━━━━━━━━━━━━━━━━━━━╇━━━━━━━━━━━━━━━━━━━━━━━━╇━━━━━━━━━━━━━━━━╇━━━━━━━━━━━━━━━━━━━━━━━━┩\n",
              "│ input_layer_3             │ (\u001b[38;5;45mNone\u001b[0m, \u001b[38;5;34m30\u001b[0m, \u001b[38;5;34m8\u001b[0m)          │              \u001b[38;5;34m0\u001b[0m │ -                      │\n",
              "│ (\u001b[38;5;33mInputLayer\u001b[0m)              │                        │                │                        │\n",
              "├───────────────────────────┼────────────────────────┼────────────────┼────────────────────────┤\n",
              "│ lstm_6 (\u001b[38;5;33mLSTM\u001b[0m)             │ (\u001b[38;5;45mNone\u001b[0m, \u001b[38;5;34m30\u001b[0m, \u001b[38;5;34m100\u001b[0m)        │         \u001b[38;5;34m43,600\u001b[0m │ input_layer_3[\u001b[38;5;34m0\u001b[0m][\u001b[38;5;34m0\u001b[0m]    │\n",
              "├───────────────────────────┼────────────────────────┼────────────────┼────────────────────────┤\n",
              "│ dropout_6 (\u001b[38;5;33mDropout\u001b[0m)       │ (\u001b[38;5;45mNone\u001b[0m, \u001b[38;5;34m30\u001b[0m, \u001b[38;5;34m100\u001b[0m)        │              \u001b[38;5;34m0\u001b[0m │ lstm_6[\u001b[38;5;34m0\u001b[0m][\u001b[38;5;34m0\u001b[0m]           │\n",
              "├───────────────────────────┼────────────────────────┼────────────────┼────────────────────────┤\n",
              "│ lstm_7 (\u001b[38;5;33mLSTM\u001b[0m)             │ (\u001b[38;5;45mNone\u001b[0m, \u001b[38;5;34m100\u001b[0m)            │         \u001b[38;5;34m80,400\u001b[0m │ dropout_6[\u001b[38;5;34m0\u001b[0m][\u001b[38;5;34m0\u001b[0m]        │\n",
              "├───────────────────────────┼────────────────────────┼────────────────┼────────────────────────┤\n",
              "│ dropout_7 (\u001b[38;5;33mDropout\u001b[0m)       │ (\u001b[38;5;45mNone\u001b[0m, \u001b[38;5;34m100\u001b[0m)            │              \u001b[38;5;34m0\u001b[0m │ lstm_7[\u001b[38;5;34m0\u001b[0m][\u001b[38;5;34m0\u001b[0m]           │\n",
              "├───────────────────────────┼────────────────────────┼────────────────┼────────────────────────┤\n",
              "│ MinTemp (\u001b[38;5;33mDense\u001b[0m)           │ (\u001b[38;5;45mNone\u001b[0m, \u001b[38;5;34m1\u001b[0m)              │            \u001b[38;5;34m101\u001b[0m │ dropout_7[\u001b[38;5;34m0\u001b[0m][\u001b[38;5;34m0\u001b[0m]        │\n",
              "├───────────────────────────┼────────────────────────┼────────────────┼────────────────────────┤\n",
              "│ MaxTemp (\u001b[38;5;33mDense\u001b[0m)           │ (\u001b[38;5;45mNone\u001b[0m, \u001b[38;5;34m1\u001b[0m)              │            \u001b[38;5;34m101\u001b[0m │ dropout_7[\u001b[38;5;34m0\u001b[0m][\u001b[38;5;34m0\u001b[0m]        │\n",
              "├───────────────────────────┼────────────────────────┼────────────────┼────────────────────────┤\n",
              "│ 9amTemp (\u001b[38;5;33mDense\u001b[0m)           │ (\u001b[38;5;45mNone\u001b[0m, \u001b[38;5;34m1\u001b[0m)              │            \u001b[38;5;34m101\u001b[0m │ dropout_7[\u001b[38;5;34m0\u001b[0m][\u001b[38;5;34m0\u001b[0m]        │\n",
              "├───────────────────────────┼────────────────────────┼────────────────┼────────────────────────┤\n",
              "│ 3pmTemp (\u001b[38;5;33mDense\u001b[0m)           │ (\u001b[38;5;45mNone\u001b[0m, \u001b[38;5;34m1\u001b[0m)              │            \u001b[38;5;34m101\u001b[0m │ dropout_7[\u001b[38;5;34m0\u001b[0m][\u001b[38;5;34m0\u001b[0m]        │\n",
              "├───────────────────────────┼────────────────────────┼────────────────┼────────────────────────┤\n",
              "│ Rainfall (\u001b[38;5;33mDense\u001b[0m)          │ (\u001b[38;5;45mNone\u001b[0m, \u001b[38;5;34m1\u001b[0m)              │            \u001b[38;5;34m101\u001b[0m │ dropout_7[\u001b[38;5;34m0\u001b[0m][\u001b[38;5;34m0\u001b[0m]        │\n",
              "└───────────────────────────┴────────────────────────┴────────────────┴────────────────────────┘\n"
            ],
            "text/html": [
              "<pre style=\"white-space:pre;overflow-x:auto;line-height:normal;font-family:Menlo,'DejaVu Sans Mono',consolas,'Courier New',monospace\">┏━━━━━━━━━━━━━━━━━━━━━━━━━━━┳━━━━━━━━━━━━━━━━━━━━━━━━┳━━━━━━━━━━━━━━━━┳━━━━━━━━━━━━━━━━━━━━━━━━┓\n",
              "┃<span style=\"font-weight: bold\"> Layer (type)              </span>┃<span style=\"font-weight: bold\"> Output Shape           </span>┃<span style=\"font-weight: bold\">        Param # </span>┃<span style=\"font-weight: bold\"> Connected to           </span>┃\n",
              "┡━━━━━━━━━━━━━━━━━━━━━━━━━━━╇━━━━━━━━━━━━━━━━━━━━━━━━╇━━━━━━━━━━━━━━━━╇━━━━━━━━━━━━━━━━━━━━━━━━┩\n",
              "│ input_layer_3             │ (<span style=\"color: #00d7ff; text-decoration-color: #00d7ff\">None</span>, <span style=\"color: #00af00; text-decoration-color: #00af00\">30</span>, <span style=\"color: #00af00; text-decoration-color: #00af00\">8</span>)          │              <span style=\"color: #00af00; text-decoration-color: #00af00\">0</span> │ -                      │\n",
              "│ (<span style=\"color: #0087ff; text-decoration-color: #0087ff\">InputLayer</span>)              │                        │                │                        │\n",
              "├───────────────────────────┼────────────────────────┼────────────────┼────────────────────────┤\n",
              "│ lstm_6 (<span style=\"color: #0087ff; text-decoration-color: #0087ff\">LSTM</span>)             │ (<span style=\"color: #00d7ff; text-decoration-color: #00d7ff\">None</span>, <span style=\"color: #00af00; text-decoration-color: #00af00\">30</span>, <span style=\"color: #00af00; text-decoration-color: #00af00\">100</span>)        │         <span style=\"color: #00af00; text-decoration-color: #00af00\">43,600</span> │ input_layer_3[<span style=\"color: #00af00; text-decoration-color: #00af00\">0</span>][<span style=\"color: #00af00; text-decoration-color: #00af00\">0</span>]    │\n",
              "├───────────────────────────┼────────────────────────┼────────────────┼────────────────────────┤\n",
              "│ dropout_6 (<span style=\"color: #0087ff; text-decoration-color: #0087ff\">Dropout</span>)       │ (<span style=\"color: #00d7ff; text-decoration-color: #00d7ff\">None</span>, <span style=\"color: #00af00; text-decoration-color: #00af00\">30</span>, <span style=\"color: #00af00; text-decoration-color: #00af00\">100</span>)        │              <span style=\"color: #00af00; text-decoration-color: #00af00\">0</span> │ lstm_6[<span style=\"color: #00af00; text-decoration-color: #00af00\">0</span>][<span style=\"color: #00af00; text-decoration-color: #00af00\">0</span>]           │\n",
              "├───────────────────────────┼────────────────────────┼────────────────┼────────────────────────┤\n",
              "│ lstm_7 (<span style=\"color: #0087ff; text-decoration-color: #0087ff\">LSTM</span>)             │ (<span style=\"color: #00d7ff; text-decoration-color: #00d7ff\">None</span>, <span style=\"color: #00af00; text-decoration-color: #00af00\">100</span>)            │         <span style=\"color: #00af00; text-decoration-color: #00af00\">80,400</span> │ dropout_6[<span style=\"color: #00af00; text-decoration-color: #00af00\">0</span>][<span style=\"color: #00af00; text-decoration-color: #00af00\">0</span>]        │\n",
              "├───────────────────────────┼────────────────────────┼────────────────┼────────────────────────┤\n",
              "│ dropout_7 (<span style=\"color: #0087ff; text-decoration-color: #0087ff\">Dropout</span>)       │ (<span style=\"color: #00d7ff; text-decoration-color: #00d7ff\">None</span>, <span style=\"color: #00af00; text-decoration-color: #00af00\">100</span>)            │              <span style=\"color: #00af00; text-decoration-color: #00af00\">0</span> │ lstm_7[<span style=\"color: #00af00; text-decoration-color: #00af00\">0</span>][<span style=\"color: #00af00; text-decoration-color: #00af00\">0</span>]           │\n",
              "├───────────────────────────┼────────────────────────┼────────────────┼────────────────────────┤\n",
              "│ MinTemp (<span style=\"color: #0087ff; text-decoration-color: #0087ff\">Dense</span>)           │ (<span style=\"color: #00d7ff; text-decoration-color: #00d7ff\">None</span>, <span style=\"color: #00af00; text-decoration-color: #00af00\">1</span>)              │            <span style=\"color: #00af00; text-decoration-color: #00af00\">101</span> │ dropout_7[<span style=\"color: #00af00; text-decoration-color: #00af00\">0</span>][<span style=\"color: #00af00; text-decoration-color: #00af00\">0</span>]        │\n",
              "├───────────────────────────┼────────────────────────┼────────────────┼────────────────────────┤\n",
              "│ MaxTemp (<span style=\"color: #0087ff; text-decoration-color: #0087ff\">Dense</span>)           │ (<span style=\"color: #00d7ff; text-decoration-color: #00d7ff\">None</span>, <span style=\"color: #00af00; text-decoration-color: #00af00\">1</span>)              │            <span style=\"color: #00af00; text-decoration-color: #00af00\">101</span> │ dropout_7[<span style=\"color: #00af00; text-decoration-color: #00af00\">0</span>][<span style=\"color: #00af00; text-decoration-color: #00af00\">0</span>]        │\n",
              "├───────────────────────────┼────────────────────────┼────────────────┼────────────────────────┤\n",
              "│ 9amTemp (<span style=\"color: #0087ff; text-decoration-color: #0087ff\">Dense</span>)           │ (<span style=\"color: #00d7ff; text-decoration-color: #00d7ff\">None</span>, <span style=\"color: #00af00; text-decoration-color: #00af00\">1</span>)              │            <span style=\"color: #00af00; text-decoration-color: #00af00\">101</span> │ dropout_7[<span style=\"color: #00af00; text-decoration-color: #00af00\">0</span>][<span style=\"color: #00af00; text-decoration-color: #00af00\">0</span>]        │\n",
              "├───────────────────────────┼────────────────────────┼────────────────┼────────────────────────┤\n",
              "│ 3pmTemp (<span style=\"color: #0087ff; text-decoration-color: #0087ff\">Dense</span>)           │ (<span style=\"color: #00d7ff; text-decoration-color: #00d7ff\">None</span>, <span style=\"color: #00af00; text-decoration-color: #00af00\">1</span>)              │            <span style=\"color: #00af00; text-decoration-color: #00af00\">101</span> │ dropout_7[<span style=\"color: #00af00; text-decoration-color: #00af00\">0</span>][<span style=\"color: #00af00; text-decoration-color: #00af00\">0</span>]        │\n",
              "├───────────────────────────┼────────────────────────┼────────────────┼────────────────────────┤\n",
              "│ Rainfall (<span style=\"color: #0087ff; text-decoration-color: #0087ff\">Dense</span>)          │ (<span style=\"color: #00d7ff; text-decoration-color: #00d7ff\">None</span>, <span style=\"color: #00af00; text-decoration-color: #00af00\">1</span>)              │            <span style=\"color: #00af00; text-decoration-color: #00af00\">101</span> │ dropout_7[<span style=\"color: #00af00; text-decoration-color: #00af00\">0</span>][<span style=\"color: #00af00; text-decoration-color: #00af00\">0</span>]        │\n",
              "└───────────────────────────┴────────────────────────┴────────────────┴────────────────────────┘\n",
              "</pre>\n"
            ]
          },
          "metadata": {}
        },
        {
          "output_type": "display_data",
          "data": {
            "text/plain": [
              "\u001b[1m Total params: \u001b[0m\u001b[38;5;34m124,505\u001b[0m (486.35 KB)\n"
            ],
            "text/html": [
              "<pre style=\"white-space:pre;overflow-x:auto;line-height:normal;font-family:Menlo,'DejaVu Sans Mono',consolas,'Courier New',monospace\"><span style=\"font-weight: bold\"> Total params: </span><span style=\"color: #00af00; text-decoration-color: #00af00\">124,505</span> (486.35 KB)\n",
              "</pre>\n"
            ]
          },
          "metadata": {}
        },
        {
          "output_type": "display_data",
          "data": {
            "text/plain": [
              "\u001b[1m Trainable params: \u001b[0m\u001b[38;5;34m124,505\u001b[0m (486.35 KB)\n"
            ],
            "text/html": [
              "<pre style=\"white-space:pre;overflow-x:auto;line-height:normal;font-family:Menlo,'DejaVu Sans Mono',consolas,'Courier New',monospace\"><span style=\"font-weight: bold\"> Trainable params: </span><span style=\"color: #00af00; text-decoration-color: #00af00\">124,505</span> (486.35 KB)\n",
              "</pre>\n"
            ]
          },
          "metadata": {}
        },
        {
          "output_type": "display_data",
          "data": {
            "text/plain": [
              "\u001b[1m Non-trainable params: \u001b[0m\u001b[38;5;34m0\u001b[0m (0.00 B)\n"
            ],
            "text/html": [
              "<pre style=\"white-space:pre;overflow-x:auto;line-height:normal;font-family:Menlo,'DejaVu Sans Mono',consolas,'Courier New',monospace\"><span style=\"font-weight: bold\"> Non-trainable params: </span><span style=\"color: #00af00; text-decoration-color: #00af00\">0</span> (0.00 B)\n",
              "</pre>\n"
            ]
          },
          "metadata": {}
        }
      ]
    },
    {
      "cell_type": "code",
      "source": [
        "from tensorflow.keras.callbacks import EarlyStopping\n",
        "\n",
        "# Define early stopping callback\n",
        "early_stopping = EarlyStopping(monitor='val_loss', patience=10) # Stop if val_loss doesn't improve for 10 epochs\n",
        "\n",
        "# Training the model\n",
        "history = model.fit(\n",
        "    X_train,\n",
        "    {'MinTemp': y_train[:, 0], 'MaxTemp': y_train[:, 1], '9amTemp': y_train[:, 2], '3pmTemp': y_train[:, 3], 'Rainfall': y_train[:, 4]},\n",
        "    epochs=100,\n",
        "    batch_size=16,\n",
        "    validation_split=0.2,\n",
        "    callbacks=[early_stopping]\n",
        ")"
      ],
      "metadata": {
        "colab": {
          "base_uri": "https://localhost:8080/"
        },
        "id": "hBtldqSaEfLR",
        "outputId": "c7b5ef3b-00ef-4ec8-b58d-ef56ba4ff68a"
      },
      "execution_count": null,
      "outputs": [
        {
          "output_type": "stream",
          "name": "stdout",
          "text": [
            "Epoch 1/100\n",
            "\u001b[1m120/120\u001b[0m \u001b[32m━━━━━━━━━━━━━━━━━━━━\u001b[0m\u001b[37m\u001b[0m \u001b[1m14s\u001b[0m 61ms/step - 3pmTemp_loss: 77.9076 - 9amTemp_loss: 356.7808 - MaxTemp_loss: 147.7646 - MinTemp_loss: 300.4088 - Rainfall_loss: 49.4024 - loss: 934.0956 - val_3pmTemp_loss: 35.0765 - val_9amTemp_loss: 84.0179 - val_MaxTemp_loss: 39.9548 - val_MinTemp_loss: 69.3400 - val_Rainfall_loss: 51.5602 - val_loss: 282.5901\n",
            "Epoch 2/100\n",
            "\u001b[1m120/120\u001b[0m \u001b[32m━━━━━━━━━━━━━━━━━━━━\u001b[0m\u001b[37m\u001b[0m \u001b[1m5s\u001b[0m 45ms/step - 3pmTemp_loss: 28.4842 - 9amTemp_loss: 63.8794 - MaxTemp_loss: 29.9504 - MinTemp_loss: 52.1675 - Rainfall_loss: 37.3862 - loss: 213.7918 - val_3pmTemp_loss: 16.2070 - val_9amTemp_loss: 31.1174 - val_MaxTemp_loss: 15.8468 - val_MinTemp_loss: 26.9656 - val_Rainfall_loss: 51.3257 - val_loss: 144.0073\n",
            "Epoch 3/100\n",
            "\u001b[1m120/120\u001b[0m \u001b[32m━━━━━━━━━━━━━━━━━━━━\u001b[0m\u001b[37m\u001b[0m \u001b[1m10s\u001b[0m 46ms/step - 3pmTemp_loss: 16.6100 - 9amTemp_loss: 29.1808 - MaxTemp_loss: 14.6487 - MinTemp_loss: 25.4588 - Rainfall_loss: 46.7091 - loss: 134.5406 - val_3pmTemp_loss: 12.2207 - val_9amTemp_loss: 18.9557 - val_MaxTemp_loss: 10.4507 - val_MinTemp_loss: 18.4148 - val_Rainfall_loss: 51.6214 - val_loss: 114.0831\n",
            "Epoch 4/100\n",
            "\u001b[1m120/120\u001b[0m \u001b[32m━━━━━━━━━━━━━━━━━━━━\u001b[0m\u001b[37m\u001b[0m \u001b[1m11s\u001b[0m 49ms/step - 3pmTemp_loss: 12.0977 - 9amTemp_loss: 19.0934 - MaxTemp_loss: 11.1594 - MinTemp_loss: 18.7078 - Rainfall_loss: 39.1802 - loss: 102.1407 - val_3pmTemp_loss: 11.4248 - val_9amTemp_loss: 15.3619 - val_MaxTemp_loss: 9.4302 - val_MinTemp_loss: 16.1780 - val_Rainfall_loss: 51.5641 - val_loss: 106.3131\n",
            "Epoch 5/100\n",
            "\u001b[1m120/120\u001b[0m \u001b[32m━━━━━━━━━━━━━━━━━━━━\u001b[0m\u001b[37m\u001b[0m \u001b[1m12s\u001b[0m 61ms/step - 3pmTemp_loss: 11.9446 - 9amTemp_loss: 17.2929 - MaxTemp_loss: 9.8739 - MinTemp_loss: 17.4794 - Rainfall_loss: 41.5516 - loss: 99.9941 - val_3pmTemp_loss: 9.7970 - val_9amTemp_loss: 13.0011 - val_MaxTemp_loss: 7.6960 - val_MinTemp_loss: 14.1255 - val_Rainfall_loss: 51.4053 - val_loss: 98.3038\n",
            "Epoch 6/100\n",
            "\u001b[1m120/120\u001b[0m \u001b[32m━━━━━━━━━━━━━━━━━━━━\u001b[0m\u001b[37m\u001b[0m \u001b[1m8s\u001b[0m 46ms/step - 3pmTemp_loss: 10.2764 - 9amTemp_loss: 15.3198 - MaxTemp_loss: 8.7177 - MinTemp_loss: 16.3140 - Rainfall_loss: 38.4293 - loss: 90.8744 - val_3pmTemp_loss: 8.7997 - val_9amTemp_loss: 11.6338 - val_MaxTemp_loss: 6.6310 - val_MinTemp_loss: 12.8178 - val_Rainfall_loss: 51.2314 - val_loss: 93.3374\n",
            "Epoch 7/100\n",
            "\u001b[1m120/120\u001b[0m \u001b[32m━━━━━━━━━━━━━━━━━━━━\u001b[0m\u001b[37m\u001b[0m \u001b[1m10s\u001b[0m 46ms/step - 3pmTemp_loss: 9.2846 - 9amTemp_loss: 15.2493 - MaxTemp_loss: 8.1539 - MinTemp_loss: 16.5297 - Rainfall_loss: 38.5459 - loss: 89.5593 - val_3pmTemp_loss: 8.5758 - val_9amTemp_loss: 10.7242 - val_MaxTemp_loss: 6.3564 - val_MinTemp_loss: 12.1092 - val_Rainfall_loss: 51.0101 - val_loss: 90.9240\n",
            "Epoch 8/100\n",
            "\u001b[1m120/120\u001b[0m \u001b[32m━━━━━━━━━━━━━━━━━━━━\u001b[0m\u001b[37m\u001b[0m \u001b[1m6s\u001b[0m 51ms/step - 3pmTemp_loss: 9.2406 - 9amTemp_loss: 15.0075 - MaxTemp_loss: 7.9248 - MinTemp_loss: 15.8129 - Rainfall_loss: 47.0408 - loss: 96.7807 - val_3pmTemp_loss: 8.4969 - val_9amTemp_loss: 10.0968 - val_MaxTemp_loss: 5.8448 - val_MinTemp_loss: 11.5073 - val_Rainfall_loss: 50.9272 - val_loss: 88.9841\n",
            "Epoch 9/100\n",
            "\u001b[1m120/120\u001b[0m \u001b[32m━━━━━━━━━━━━━━━━━━━━\u001b[0m\u001b[37m\u001b[0m \u001b[1m9s\u001b[0m 43ms/step - 3pmTemp_loss: 8.8253 - 9amTemp_loss: 14.3502 - MaxTemp_loss: 7.4389 - MinTemp_loss: 15.6718 - Rainfall_loss: 50.8048 - loss: 98.8026 - val_3pmTemp_loss: 8.7780 - val_9amTemp_loss: 10.0087 - val_MaxTemp_loss: 6.1799 - val_MinTemp_loss: 11.6174 - val_Rainfall_loss: 50.6977 - val_loss: 89.2761\n",
            "Epoch 10/100\n",
            "\u001b[1m120/120\u001b[0m \u001b[32m━━━━━━━━━━━━━━━━━━━━\u001b[0m\u001b[37m\u001b[0m \u001b[1m7s\u001b[0m 60ms/step - 3pmTemp_loss: 8.7472 - 9amTemp_loss: 13.2179 - MaxTemp_loss: 7.0483 - MinTemp_loss: 14.0532 - Rainfall_loss: 37.1706 - loss: 81.8753 - val_3pmTemp_loss: 8.7491 - val_9amTemp_loss: 10.2870 - val_MaxTemp_loss: 6.2061 - val_MinTemp_loss: 11.7304 - val_Rainfall_loss: 50.4069 - val_loss: 89.3333\n",
            "Epoch 11/100\n",
            "\u001b[1m120/120\u001b[0m \u001b[32m━━━━━━━━━━━━━━━━━━━━\u001b[0m\u001b[37m\u001b[0m \u001b[1m8s\u001b[0m 42ms/step - 3pmTemp_loss: 8.7540 - 9amTemp_loss: 13.4055 - MaxTemp_loss: 6.8615 - MinTemp_loss: 14.3030 - Rainfall_loss: 35.3301 - loss: 80.2303 - val_3pmTemp_loss: 8.1991 - val_9amTemp_loss: 9.8093 - val_MaxTemp_loss: 5.5393 - val_MinTemp_loss: 11.2080 - val_Rainfall_loss: 50.2911 - val_loss: 86.9581\n",
            "Epoch 12/100\n",
            "\u001b[1m120/120\u001b[0m \u001b[32m━━━━━━━━━━━━━━━━━━━━\u001b[0m\u001b[37m\u001b[0m \u001b[1m6s\u001b[0m 53ms/step - 3pmTemp_loss: 8.8961 - 9amTemp_loss: 13.5920 - MaxTemp_loss: 7.0388 - MinTemp_loss: 14.7462 - Rainfall_loss: 65.9375 - loss: 111.7533 - val_3pmTemp_loss: 8.4390 - val_9amTemp_loss: 9.2803 - val_MaxTemp_loss: 5.6258 - val_MinTemp_loss: 10.8295 - val_Rainfall_loss: 50.0075 - val_loss: 86.0380\n",
            "Epoch 13/100\n",
            "\u001b[1m120/120\u001b[0m \u001b[32m━━━━━━━━━━━━━━━━━━━━\u001b[0m\u001b[37m\u001b[0m \u001b[1m9s\u001b[0m 43ms/step - 3pmTemp_loss: 8.7633 - 9amTemp_loss: 13.2433 - MaxTemp_loss: 6.8755 - MinTemp_loss: 14.6489 - Rainfall_loss: 34.4846 - loss: 79.5166 - val_3pmTemp_loss: 8.4499 - val_9amTemp_loss: 9.5492 - val_MaxTemp_loss: 5.7905 - val_MinTemp_loss: 11.1056 - val_Rainfall_loss: 49.5464 - val_loss: 86.2540\n",
            "Epoch 14/100\n",
            "\u001b[1m120/120\u001b[0m \u001b[32m━━━━━━━━━━━━━━━━━━━━\u001b[0m\u001b[37m\u001b[0m \u001b[1m8s\u001b[0m 63ms/step - 3pmTemp_loss: 8.9162 - 9amTemp_loss: 12.2740 - MaxTemp_loss: 6.9221 - MinTemp_loss: 13.5071 - Rainfall_loss: 46.6889 - loss: 89.7925 - val_3pmTemp_loss: 8.0650 - val_9amTemp_loss: 9.2705 - val_MaxTemp_loss: 5.4428 - val_MinTemp_loss: 10.6938 - val_Rainfall_loss: 49.3083 - val_loss: 84.5978\n",
            "Epoch 15/100\n",
            "\u001b[1m120/120\u001b[0m \u001b[32m━━━━━━━━━━━━━━━━━━━━\u001b[0m\u001b[37m\u001b[0m \u001b[1m8s\u001b[0m 45ms/step - 3pmTemp_loss: 8.5188 - 9amTemp_loss: 11.4417 - MaxTemp_loss: 6.3991 - MinTemp_loss: 12.2275 - Rainfall_loss: 45.3532 - loss: 85.4086 - val_3pmTemp_loss: 7.9550 - val_9amTemp_loss: 9.2899 - val_MaxTemp_loss: 5.4800 - val_MinTemp_loss: 10.6801 - val_Rainfall_loss: 49.1163 - val_loss: 84.3126\n",
            "Epoch 16/100\n",
            "\u001b[1m120/120\u001b[0m \u001b[32m━━━━━━━━━━━━━━━━━━━━\u001b[0m\u001b[37m\u001b[0m \u001b[1m10s\u001b[0m 42ms/step - 3pmTemp_loss: 8.1704 - 9amTemp_loss: 12.7884 - MaxTemp_loss: 6.8150 - MinTemp_loss: 14.1352 - Rainfall_loss: 30.0668 - loss: 73.4233 - val_3pmTemp_loss: 7.9478 - val_9amTemp_loss: 9.0821 - val_MaxTemp_loss: 5.5196 - val_MinTemp_loss: 10.6599 - val_Rainfall_loss: 48.1805 - val_loss: 83.1876\n",
            "Epoch 17/100\n",
            "\u001b[1m120/120\u001b[0m \u001b[32m━━━━━━━━━━━━━━━━━━━━\u001b[0m\u001b[37m\u001b[0m \u001b[1m5s\u001b[0m 42ms/step - 3pmTemp_loss: 8.6246 - 9amTemp_loss: 12.5503 - MaxTemp_loss: 7.0525 - MinTemp_loss: 13.6622 - Rainfall_loss: 28.5988 - loss: 71.9433 - val_3pmTemp_loss: 7.9142 - val_9amTemp_loss: 9.2273 - val_MaxTemp_loss: 5.5305 - val_MinTemp_loss: 10.7459 - val_Rainfall_loss: 48.0342 - val_loss: 83.2447\n",
            "Epoch 18/100\n",
            "\u001b[1m120/120\u001b[0m \u001b[32m━━━━━━━━━━━━━━━━━━━━\u001b[0m\u001b[37m\u001b[0m \u001b[1m7s\u001b[0m 61ms/step - 3pmTemp_loss: 7.9921 - 9amTemp_loss: 13.4102 - MaxTemp_loss: 7.0015 - MinTemp_loss: 14.8190 - Rainfall_loss: 34.8900 - loss: 79.5763 - val_3pmTemp_loss: 7.8033 - val_9amTemp_loss: 9.2176 - val_MaxTemp_loss: 5.4759 - val_MinTemp_loss: 10.6867 - val_Rainfall_loss: 47.9068 - val_loss: 82.8860\n",
            "Epoch 19/100\n",
            "\u001b[1m120/120\u001b[0m \u001b[32m━━━━━━━━━━━━━━━━━━━━\u001b[0m\u001b[37m\u001b[0m \u001b[1m8s\u001b[0m 42ms/step - 3pmTemp_loss: 8.2419 - 9amTemp_loss: 12.8925 - MaxTemp_loss: 6.8047 - MinTemp_loss: 14.0945 - Rainfall_loss: 40.6085 - loss: 84.1045 - val_3pmTemp_loss: 7.6710 - val_9amTemp_loss: 9.4074 - val_MaxTemp_loss: 5.6494 - val_MinTemp_loss: 10.7283 - val_Rainfall_loss: 47.6936 - val_loss: 82.9607\n",
            "Epoch 20/100\n",
            "\u001b[1m120/120\u001b[0m \u001b[32m━━━━━━━━━━━━━━━━━━━━\u001b[0m\u001b[37m\u001b[0m \u001b[1m10s\u001b[0m 43ms/step - 3pmTemp_loss: 7.8744 - 9amTemp_loss: 11.9153 - MaxTemp_loss: 6.4978 - MinTemp_loss: 13.5078 - Rainfall_loss: 36.7990 - loss: 78.0624 - val_3pmTemp_loss: 7.9704 - val_9amTemp_loss: 10.4224 - val_MaxTemp_loss: 6.3300 - val_MinTemp_loss: 12.0189 - val_Rainfall_loss: 47.0282 - val_loss: 85.5941\n",
            "Epoch 21/100\n",
            "\u001b[1m120/120\u001b[0m \u001b[32m━━━━━━━━━━━━━━━━━━━━\u001b[0m\u001b[37m\u001b[0m \u001b[1m11s\u001b[0m 46ms/step - 3pmTemp_loss: 7.8604 - 9amTemp_loss: 12.7294 - MaxTemp_loss: 7.1858 - MinTemp_loss: 13.5429 - Rainfall_loss: 37.9395 - loss: 80.7338 - val_3pmTemp_loss: 7.5192 - val_9amTemp_loss: 9.5120 - val_MaxTemp_loss: 5.5166 - val_MinTemp_loss: 11.1237 - val_Rainfall_loss: 46.7946 - val_loss: 82.2938\n",
            "Epoch 22/100\n",
            "\u001b[1m120/120\u001b[0m \u001b[32m━━━━━━━━━━━━━━━━━━━━\u001b[0m\u001b[37m\u001b[0m \u001b[1m12s\u001b[0m 63ms/step - 3pmTemp_loss: 8.0058 - 9amTemp_loss: 12.0721 - MaxTemp_loss: 6.3345 - MinTemp_loss: 13.0485 - Rainfall_loss: 33.5148 - loss: 74.4601 - val_3pmTemp_loss: 7.4792 - val_9amTemp_loss: 9.1763 - val_MaxTemp_loss: 5.4711 - val_MinTemp_loss: 10.6591 - val_Rainfall_loss: 46.8229 - val_loss: 81.4333\n",
            "Epoch 23/100\n",
            "\u001b[1m120/120\u001b[0m \u001b[32m━━━━━━━━━━━━━━━━━━━━\u001b[0m\u001b[37m\u001b[0m \u001b[1m8s\u001b[0m 42ms/step - 3pmTemp_loss: 7.8111 - 9amTemp_loss: 11.8998 - MaxTemp_loss: 6.7459 - MinTemp_loss: 13.1619 - Rainfall_loss: 35.4698 - loss: 76.5767 - val_3pmTemp_loss: 7.7705 - val_9amTemp_loss: 9.8233 - val_MaxTemp_loss: 5.9998 - val_MinTemp_loss: 11.5137 - val_Rainfall_loss: 46.6726 - val_loss: 83.6159\n",
            "Epoch 24/100\n",
            "\u001b[1m120/120\u001b[0m \u001b[32m━━━━━━━━━━━━━━━━━━━━\u001b[0m\u001b[37m\u001b[0m \u001b[1m7s\u001b[0m 62ms/step - 3pmTemp_loss: 7.7882 - 9amTemp_loss: 11.3444 - MaxTemp_loss: 6.3843 - MinTemp_loss: 12.0875 - Rainfall_loss: 28.2787 - loss: 67.3579 - val_3pmTemp_loss: 7.3568 - val_9amTemp_loss: 9.2939 - val_MaxTemp_loss: 5.5770 - val_MinTemp_loss: 10.9001 - val_Rainfall_loss: 46.5741 - val_loss: 81.5174\n",
            "Epoch 25/100\n",
            "\u001b[1m120/120\u001b[0m \u001b[32m━━━━━━━━━━━━━━━━━━━━\u001b[0m\u001b[37m\u001b[0m \u001b[1m8s\u001b[0m 42ms/step - 3pmTemp_loss: 7.6648 - 9amTemp_loss: 11.3782 - MaxTemp_loss: 6.2520 - MinTemp_loss: 12.6905 - Rainfall_loss: 41.0225 - loss: 80.4934 - val_3pmTemp_loss: 7.3738 - val_9amTemp_loss: 9.0617 - val_MaxTemp_loss: 5.3765 - val_MinTemp_loss: 10.5475 - val_Rainfall_loss: 46.9053 - val_loss: 81.1070\n",
            "Epoch 26/100\n",
            "\u001b[1m120/120\u001b[0m \u001b[32m━━━━━━━━━━━━━━━━━━━━\u001b[0m\u001b[37m\u001b[0m \u001b[1m8s\u001b[0m 65ms/step - 3pmTemp_loss: 7.5692 - 9amTemp_loss: 11.6994 - MaxTemp_loss: 6.3426 - MinTemp_loss: 12.1196 - Rainfall_loss: 29.2282 - loss: 68.4469 - val_3pmTemp_loss: 7.3258 - val_9amTemp_loss: 9.4328 - val_MaxTemp_loss: 5.3310 - val_MinTemp_loss: 11.0806 - val_Rainfall_loss: 46.0855 - val_loss: 81.0767\n",
            "Epoch 27/100\n",
            "\u001b[1m120/120\u001b[0m \u001b[32m━━━━━━━━━━━━━━━━━━━━\u001b[0m\u001b[37m\u001b[0m \u001b[1m8s\u001b[0m 45ms/step - 3pmTemp_loss: 8.1188 - 9amTemp_loss: 11.9691 - MaxTemp_loss: 6.8334 - MinTemp_loss: 12.9546 - Rainfall_loss: 33.2279 - loss: 74.5802 - val_3pmTemp_loss: 7.2356 - val_9amTemp_loss: 9.8886 - val_MaxTemp_loss: 5.5756 - val_MinTemp_loss: 11.3725 - val_Rainfall_loss: 45.9652 - val_loss: 81.8622\n",
            "Epoch 28/100\n",
            "\u001b[1m120/120\u001b[0m \u001b[32m━━━━━━━━━━━━━━━━━━━━\u001b[0m\u001b[37m\u001b[0m \u001b[1m10s\u001b[0m 43ms/step - 3pmTemp_loss: 7.7474 - 9amTemp_loss: 12.1427 - MaxTemp_loss: 6.8712 - MinTemp_loss: 12.7694 - Rainfall_loss: 45.1433 - loss: 86.1597 - val_3pmTemp_loss: 7.3823 - val_9amTemp_loss: 9.7914 - val_MaxTemp_loss: 5.7346 - val_MinTemp_loss: 11.3928 - val_Rainfall_loss: 45.8767 - val_loss: 82.0175\n",
            "Epoch 29/100\n",
            "\u001b[1m120/120\u001b[0m \u001b[32m━━━━━━━━━━━━━━━━━━━━\u001b[0m\u001b[37m\u001b[0m \u001b[1m11s\u001b[0m 53ms/step - 3pmTemp_loss: 7.4726 - 9amTemp_loss: 11.6598 - MaxTemp_loss: 6.5146 - MinTemp_loss: 12.7391 - Rainfall_loss: 36.9375 - loss: 76.8223 - val_3pmTemp_loss: 7.2066 - val_9amTemp_loss: 9.3910 - val_MaxTemp_loss: 5.3036 - val_MinTemp_loss: 10.9256 - val_Rainfall_loss: 46.2112 - val_loss: 80.8921\n",
            "Epoch 30/100\n",
            "\u001b[1m120/120\u001b[0m \u001b[32m━━━━━━━━━━━━━━━━━━━━\u001b[0m\u001b[37m\u001b[0m \u001b[1m10s\u001b[0m 55ms/step - 3pmTemp_loss: 7.5695 - 9amTemp_loss: 11.5970 - MaxTemp_loss: 6.4948 - MinTemp_loss: 12.5396 - Rainfall_loss: 28.4680 - loss: 68.1561 - val_3pmTemp_loss: 7.4844 - val_9amTemp_loss: 9.8488 - val_MaxTemp_loss: 5.8469 - val_MinTemp_loss: 11.4368 - val_Rainfall_loss: 45.6609 - val_loss: 82.1139\n",
            "Epoch 31/100\n",
            "\u001b[1m120/120\u001b[0m \u001b[32m━━━━━━━━━━━━━━━━━━━━\u001b[0m\u001b[37m\u001b[0m \u001b[1m6s\u001b[0m 52ms/step - 3pmTemp_loss: 7.1001 - 9amTemp_loss: 11.2825 - MaxTemp_loss: 5.9279 - MinTemp_loss: 12.4741 - Rainfall_loss: 31.7703 - loss: 70.0516 - val_3pmTemp_loss: 7.4526 - val_9amTemp_loss: 9.6069 - val_MaxTemp_loss: 5.5365 - val_MinTemp_loss: 11.2413 - val_Rainfall_loss: 46.1036 - val_loss: 81.8009\n",
            "Epoch 32/100\n",
            "\u001b[1m120/120\u001b[0m \u001b[32m━━━━━━━━━━━━━━━━━━━━\u001b[0m\u001b[37m\u001b[0m \u001b[1m11s\u001b[0m 60ms/step - 3pmTemp_loss: 7.3762 - 9amTemp_loss: 12.8248 - MaxTemp_loss: 6.4056 - MinTemp_loss: 13.6796 - Rainfall_loss: 61.8496 - loss: 103.6490 - val_3pmTemp_loss: 7.9608 - val_9amTemp_loss: 10.6583 - val_MaxTemp_loss: 6.4929 - val_MinTemp_loss: 12.0818 - val_Rainfall_loss: 46.1265 - val_loss: 85.1857\n",
            "Epoch 33/100\n",
            "\u001b[1m120/120\u001b[0m \u001b[32m━━━━━━━━━━━━━━━━━━━━\u001b[0m\u001b[37m\u001b[0m \u001b[1m5s\u001b[0m 43ms/step - 3pmTemp_loss: 7.5152 - 9amTemp_loss: 10.6539 - MaxTemp_loss: 6.0582 - MinTemp_loss: 11.8090 - Rainfall_loss: 25.7435 - loss: 63.2921 - val_3pmTemp_loss: 7.3334 - val_9amTemp_loss: 9.5335 - val_MaxTemp_loss: 5.4529 - val_MinTemp_loss: 11.1752 - val_Rainfall_loss: 45.7642 - val_loss: 81.1344\n",
            "Epoch 34/100\n",
            "\u001b[1m120/120\u001b[0m \u001b[32m━━━━━━━━━━━━━━━━━━━━\u001b[0m\u001b[37m\u001b[0m \u001b[1m13s\u001b[0m 63ms/step - 3pmTemp_loss: 8.0022 - 9amTemp_loss: 11.4335 - MaxTemp_loss: 6.7843 - MinTemp_loss: 12.2659 - Rainfall_loss: 32.9948 - loss: 73.0131 - val_3pmTemp_loss: 7.3496 - val_9amTemp_loss: 9.9725 - val_MaxTemp_loss: 5.4753 - val_MinTemp_loss: 11.5306 - val_Rainfall_loss: 45.9731 - val_loss: 82.2082\n",
            "Epoch 35/100\n",
            "\u001b[1m120/120\u001b[0m \u001b[32m━━━━━━━━━━━━━━━━━━━━\u001b[0m\u001b[37m\u001b[0m \u001b[1m8s\u001b[0m 42ms/step - 3pmTemp_loss: 7.1008 - 9amTemp_loss: 10.8351 - MaxTemp_loss: 5.8951 - MinTemp_loss: 12.1783 - Rainfall_loss: 27.3081 - loss: 64.8620 - val_3pmTemp_loss: 7.5431 - val_9amTemp_loss: 9.7712 - val_MaxTemp_loss: 5.7630 - val_MinTemp_loss: 11.2239 - val_Rainfall_loss: 46.2781 - val_loss: 82.4917\n",
            "Epoch 36/100\n",
            "\u001b[1m120/120\u001b[0m \u001b[32m━━━━━━━━━━━━━━━━━━━━\u001b[0m\u001b[37m\u001b[0m \u001b[1m8s\u001b[0m 63ms/step - 3pmTemp_loss: 7.4992 - 9amTemp_loss: 10.8548 - MaxTemp_loss: 6.3884 - MinTemp_loss: 11.9219 - Rainfall_loss: 42.8482 - loss: 81.0646 - val_3pmTemp_loss: 7.6625 - val_9amTemp_loss: 10.6277 - val_MaxTemp_loss: 6.1217 - val_MinTemp_loss: 12.3197 - val_Rainfall_loss: 46.3610 - val_loss: 85.1730\n",
            "Epoch 37/100\n",
            "\u001b[1m120/120\u001b[0m \u001b[32m━━━━━━━━━━━━━━━━━━━━\u001b[0m\u001b[37m\u001b[0m \u001b[1m5s\u001b[0m 41ms/step - 3pmTemp_loss: 7.7137 - 9amTemp_loss: 11.5758 - MaxTemp_loss: 6.4437 - MinTemp_loss: 12.8070 - Rainfall_loss: 43.1835 - loss: 83.4547 - val_3pmTemp_loss: 7.3850 - val_9amTemp_loss: 9.7416 - val_MaxTemp_loss: 5.7154 - val_MinTemp_loss: 11.1631 - val_Rainfall_loss: 46.0058 - val_loss: 82.1107\n",
            "Epoch 38/100\n",
            "\u001b[1m120/120\u001b[0m \u001b[32m━━━━━━━━━━━━━━━━━━━━\u001b[0m\u001b[37m\u001b[0m \u001b[1m6s\u001b[0m 51ms/step - 3pmTemp_loss: 7.0576 - 9amTemp_loss: 11.5170 - MaxTemp_loss: 6.2176 - MinTemp_loss: 12.4246 - Rainfall_loss: 26.8848 - loss: 65.8227 - val_3pmTemp_loss: 7.6066 - val_9amTemp_loss: 10.0184 - val_MaxTemp_loss: 5.7443 - val_MinTemp_loss: 11.5230 - val_Rainfall_loss: 45.3491 - val_loss: 82.3142\n",
            "Epoch 39/100\n",
            "\u001b[1m120/120\u001b[0m \u001b[32m━━━━━━━━━━━━━━━━━━━━\u001b[0m\u001b[37m\u001b[0m \u001b[1m9s\u001b[0m 43ms/step - 3pmTemp_loss: 7.5044 - 9amTemp_loss: 11.3246 - MaxTemp_loss: 6.0335 - MinTemp_loss: 12.3779 - Rainfall_loss: 33.0699 - loss: 72.0070 - val_3pmTemp_loss: 7.7208 - val_9amTemp_loss: 10.8984 - val_MaxTemp_loss: 6.1044 - val_MinTemp_loss: 12.2578 - val_Rainfall_loss: 46.1231 - val_loss: 85.1904\n"
          ]
        }
      ]
    },
    {
      "cell_type": "code",
      "source": [
        "import matplotlib.pyplot as plt\n",
        "\n",
        "plt.plot(history.history['loss'], label='Training Loss')\n",
        "plt.plot(history.history['val_loss'], label='Validation Loss')\n",
        "plt.legend()\n",
        "plt.show()"
      ],
      "metadata": {
        "colab": {
          "base_uri": "https://localhost:8080/",
          "height": 430
        },
        "id": "6Nai7oqgExgb",
        "outputId": "c916a94d-41f1-427c-e59b-36d1479e1f04"
      },
      "execution_count": null,
      "outputs": [
        {
          "output_type": "display_data",
          "data": {
            "text/plain": [
              "<Figure size 640x480 with 1 Axes>"
            ],
            "image/png": "[encoded data removed]"
          },
          "metadata": {}
        }
      ]
    },
    {
      "cell_type": "code",
      "source": [
        "y_pred = model.predict(X_test)"
      ],
      "metadata": {
        "colab": {
          "base_uri": "https://localhost:8080/"
        },
        "id": "DqxqevkPGi3h",
        "outputId": "7b7fee75-de22-4754-e00f-760329f69590"
      },
      "execution_count": null,
      "outputs": [
        {
          "output_type": "stream",
          "name": "stdout",
          "text": [
            "\u001b[1m19/19\u001b[0m \u001b[32m━━━━━━━━━━━━━━━━━━━━\u001b[0m\u001b[37m\u001b[0m \u001b[1m1s\u001b[0m 37ms/step\n"
          ]
        }
      ]
    },
    {
      "cell_type": "code",
      "source": [
        "import numpy as np\n",
        "from sklearn.metrics import mean_absolute_error, mean_squared_error\n",
        "\n",
        "# Convert y_pred from a list of arrays to a 2D array\n",
        "y_pred = np.concatenate(y_pred, axis=1)  # Concatenate predictions for all target variables\n",
        "\n",
        "mae = mean_absolute_error(y_test, y_pred)\n",
        "rmse = np.sqrt(mean_squared_error(y_test, y_pred))\n",
        "print(f'MAE: {mae}, RMSE: {rmse}')"
      ],
      "metadata": {
        "colab": {
          "base_uri": "https://localhost:8080/"
        },
        "id": "EL1S1EjGGpJ7",
        "outputId": "b983a727-2f96-4184-c3f7-c006b3c3e1f2"
      },
      "execution_count": null,
      "outputs": [
        {
          "output_type": "stream",
          "name": "stdout",
          "text": [
            "MAE: 8.355803188995104, RMSE: 9.702429759754045\n"
          ]
        }
      ]
    },
    {
      "cell_type": "code",
      "source": [
        "import matplotlib.pyplot as plt\n",
        "\n",
        "plt.plot(y_test[:, 0], label='Real values')\n",
        "plt.plot(y_pred[:, 0], label='Predictions')\n",
        "plt.legend()\n",
        "plt.show()"
      ],
      "metadata": {
        "colab": {
          "base_uri": "https://localhost:8080/",
          "height": 430
        },
        "id": "vyIsRYOUGsYG",
        "outputId": "1668f871-19bc-4a47-f8d0-a4f5dc55aecd"
      },
      "execution_count": null,
      "outputs": [
        {
          "output_type": "display_data",
          "data": {
            "text/plain": [
              "<Figure size 640x480 with 1 Axes>"
            ],
            "image/png": "[encoded data removed]"
          },
          "metadata": {}
        }
      ]
    },
    {
      "cell_type": "code",
      "source": [],
      "metadata": {
        "id": "ViPWK0QuG2wA"
      },
      "execution_count": null,
      "outputs": []
    }
  ]
}